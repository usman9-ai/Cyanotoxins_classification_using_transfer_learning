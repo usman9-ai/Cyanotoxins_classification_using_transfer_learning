{
 "cells": [
  {
   "cell_type": "code",
   "execution_count": 1,
   "metadata": {},
   "outputs": [
    {
     "name": "stdout",
     "output_type": "stream",
     "text": [
      "Downloading raphidiopsis-548.jpg from https://atlasofcyanobacteria.com/Cyanobacteria/Nostocales/Aphanizomenonaceae/Raphidiopsis/sp/raphidiopsis-548.jpg\n",
      "Downloading raphidiopsis-549.jpg from https://atlasofcyanobacteria.com/Cyanobacteria/Nostocales/Aphanizomenonaceae/Raphidiopsis/sp/raphidiopsis-549.jpg\n",
      "Downloading raphidiopsis-550.jpg from https://atlasofcyanobacteria.com/Cyanobacteria/Nostocales/Aphanizomenonaceae/Raphidiopsis/sp/raphidiopsis-550.jpg\n",
      "All images have been downloaded.\n"
     ]
    }
   ],
   "source": [
    "from bs4 import BeautifulSoup\n",
    "import requests\n",
    "import os\n",
    "\n",
    "# URL of the webpage\n",
    "url = 'https://atlasofcyanobacteria.com/browse.php?path=Cyanobacteria/Nostocales/Aphanizomenonaceae/Raphidiopsis'  # Replace this with the actual URL\n",
    "\n",
    "# Send a GET request to fetch the HTML content\n",
    "response = requests.get(url)\n",
    "if response.status_code != 200:\n",
    "    print(f\"Failed to retrieve the webpage. Status code: {response.status_code}\")\n",
    "    exit()\n",
    "\n",
    "# Parse the HTML content using BeautifulSoup\n",
    "soup = BeautifulSoup(response.content, 'html.parser')\n",
    "\n",
    "# Find all image tags\n",
    "img_tags = soup.find_all('img')\n",
    "\n",
    "# Create a directory to save the images\n",
    "if not os.path.exists('Raphidiopsis'):\n",
    "    os.makedirs('Raphidiopsis')\n",
    "\n",
    "# Function to download an image\n",
    "def download_image(img_url, img_name):\n",
    "    response = requests.get(img_url)\n",
    "    if response.status_code == 200:\n",
    "        with open(os.path.join('Raphidiopsis', img_name), 'wb') as file:\n",
    "            file.write(response.content)\n",
    "    else:\n",
    "        print(f\"Failed to download {img_url}\")\n",
    "\n",
    "# Loop through all image tags and download the images\n",
    "for img in img_tags:\n",
    "    img_url = img.get('src')\n",
    "    if img_url:\n",
    "        img_url = requests.compat.urljoin(url, img_url)  # Handle relative URLs\n",
    "        img_name = os.path.basename(img_url)\n",
    "        print(f\"Downloading {img_name} from {img_url}\")\n",
    "        download_image(img_url, img_name)\n",
    "\n",
    "print(\"All images have been downloaded.\")\n"
   ]
  },
  {
   "cell_type": "code",
   "execution_count": null,
   "metadata": {},
   "outputs": [],
   "source": []
  }
 ],
 "metadata": {
  "kernelspec": {
   "display_name": "new_env",
   "language": "python",
   "name": "python3"
  },
  "language_info": {
   "codemirror_mode": {
    "name": "ipython",
    "version": 3
   },
   "file_extension": ".py",
   "mimetype": "text/x-python",
   "name": "python",
   "nbconvert_exporter": "python",
   "pygments_lexer": "ipython3",
   "version": "3.11.7"
  }
 },
 "nbformat": 4,
 "nbformat_minor": 2
}
