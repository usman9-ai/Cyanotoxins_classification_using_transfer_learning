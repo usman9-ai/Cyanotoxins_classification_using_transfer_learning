{
 "cells": [
  {
   "cell_type": "markdown",
   "id": "e0f8538d",
   "metadata": {},
   "source": [
    "# Preprocessing Phase #1 -  Split and Save training and test data to a directory"
   ]
  },
  {
   "cell_type": "markdown",
   "id": "6ea7a1b7",
   "metadata": {},
   "source": [
    "### CTCB (Classification of Toxigenic CyanoBacterial genera) project"
   ]
  },
  {
   "cell_type": "markdown",
   "id": "deb37645",
   "metadata": {},
   "source": [
    "* **Author : Iman Kianian**\n",
    "* **Paper Link : **"
   ]
  },
  {
   "cell_type": "markdown",
   "id": "71d8597f",
   "metadata": {},
   "source": [
    "---------------"
   ]
  },
  {
   "cell_type": "markdown",
   "id": "e656a8a2",
   "metadata": {},
   "source": [
    "#### Import the necessary libraries"
   ]
  },
  {
   "cell_type": "code",
   "execution_count": 1,
   "id": "e9df9a02",
   "metadata": {},
   "outputs": [],
   "source": [
    "import os\n",
    "import cv2\n",
    "import numpy as np\n",
    "import matplotlib.pyplot as plt\n",
    "from sklearn.model_selection import train_test_split\n",
    "import collections\n",
    "from PIL import Image\n",
    "import uuid"
   ]
  },
  {
   "cell_type": "code",
   "execution_count": 2,
   "id": "8b8fe1c4",
   "metadata": {},
   "outputs": [],
   "source": [
    "def expand2square(pil_img, background_color,target_size=150):\n",
    "    \"\"\"\n",
    "        this function convert a image to its square size of size = target_size\n",
    "        \n",
    "        pil_img (nd.array): an 2d numpy array (an image)\n",
    "        background_color (tuple): a tuple of 3 components for (R,G,B) channels\n",
    "        target_size (int): result image will be of size target_size x target_size\n",
    "    \"\"\"\n",
    "    pil_img = Image.fromarray(pil_img)\n",
    "    width, height = pil_img.size\n",
    "    if width == height and width == target_size:\n",
    "        return pil_img\n",
    "    elif width > height:\n",
    "        result = Image.new(pil_img.mode, (width, width), background_color)\n",
    "        result.paste(pil_img, (0, (width - height) // 2))\n",
    "        height = width\n",
    "    else:\n",
    "        result = Image.new(pil_img.mode, (height, height), background_color)\n",
    "        result.paste(pil_img, ((height - width) // 2, 0))\n",
    "        width = height\n",
    "        \n",
    "    if width>target_size:\n",
    "        dim = (target_size,target_size)\n",
    "        resized = cv2.resize(np.array(result), dim, interpolation = cv2.INTER_AREA)\n",
    "        return resized\n",
    "    elif width<target_size:\n",
    "        resized = Image.new(result.mode, (target_size, target_size), background_color)\n",
    "        resized.paste(result, ((target_size - width) // 2, (target_size - height) // 2))\n",
    "        return resized\n",
    "    else:\n",
    "        return result\n",
    "        "
   ]
  },
  {
   "cell_type": "code",
   "execution_count": 3,
   "id": "1bdbc6ae",
   "metadata": {},
   "outputs": [],
   "source": [
    "def calculatebackground(img):\n",
    "    \"\"\"\n",
    "        this function estimates the background color of an image.\n",
    "        \n",
    "        img (nd.array): an 2d numpy array (an image)\n",
    "    \"\"\"\n",
    "    args_r = (img[:,0][:,0] ,img[:,-1][:,0],img[0,:][:,0] , img[-1,:][:,0] ) # collecting R channel of all surrounding pixels of the image\n",
    "    args_g = (img[:,0][:,1] ,img[:,-1][:,1],img[0,:][:,1] , img[-1,:][:,1] ) # collecting G channel of all surrounding pixels of the image\n",
    "    args_b = (img[:,0][:,2] ,img[:,-1][:,2],img[0,:][:,2] , img[-1,:][:,2] ) # collecting B channel of all surrounding pixels of the image\n",
    "    \n",
    "    args_r = np.concatenate(args_r)\n",
    "    args_g = np.concatenate(args_g)\n",
    "    args_b = np.concatenate(args_b)\n",
    "\n",
    "    r = np.mean(args_r,axis=None)  # calculating mean on all R channels of all surrounding pixels of the image\n",
    "    g = np.mean(args_g,axis=None)  # calculating mean on all G channels of all surrounding pixels of the image\n",
    "    b = np.mean(args_b,axis=None)  # calculating mean on all B channels of all surrounding pixels of the image\n",
    "    return int(np.round(r)),int(np.round(g)),int(np.round(b))"
   ]
  },
  {
   "cell_type": "markdown",
   "id": "893f41a4",
   "metadata": {},
   "source": [
    "-----------------"
   ]
  },
  {
   "cell_type": "markdown",
   "id": "c729a9ff",
   "metadata": {},
   "source": [
    "# Load Dataset"
   ]
  },
  {
   "cell_type": "code",
   "execution_count": 4,
   "id": "384768d9",
   "metadata": {},
   "outputs": [
    {
     "data": {
      "text/plain": [
       "['Raphidiopsis_ss']"
      ]
     },
     "execution_count": 4,
     "metadata": {},
     "output_type": "execute_result"
    }
   ],
   "source": [
    "Categories = list(os.listdir(\"G:\\CAI\\cyanobacteria paper work\\scrap_data\\dd\"))\n",
    "Categories"
   ]
  },
  {
   "cell_type": "code",
   "execution_count": 5,
   "id": "70befd7c",
   "metadata": {},
   "outputs": [
    {
     "name": "stdout",
     "output_type": "stream",
     "text": [
      "There are 1 categories of oxigenic cyanobacterial genera.\n"
     ]
    }
   ],
   "source": [
    "print(f'There are {len(Categories)} categories of oxigenic cyanobacterial genera.')"
   ]
  },
  {
   "cell_type": "code",
   "execution_count": 6,
   "id": "37269256",
   "metadata": {},
   "outputs": [],
   "source": [
    "images = {}\n",
    "images_directory = {}\n",
    "for cls in Categories:\n",
    "    directory = \"G:\\CAI\\cyanobacteria paper work\\scrap_data\\dd/\"+cls\n",
    "    if os.path.isdir(directory):\n",
    "        imags = []\n",
    "        imgs_directory = []\n",
    "        for i, filename in enumerate(os.listdir(directory)):\n",
    "            image_format = filename.split('.')[-1]  # get image format (eg. png or jpg, etc.)\n",
    "            if image_format in ('jpg','png'):\n",
    "                addr = directory+\"/\"+filename\n",
    "                image = cv2.imread(addr)\n",
    "                imags.append(image)\n",
    "                imgs_directory.append(addr)\n",
    "        images[cls] = imags\n",
    "        images_directory[cls] = imgs_directory"
   ]
  },
  {
   "cell_type": "code",
   "execution_count": 7,
   "id": "796bccc9",
   "metadata": {},
   "outputs": [
    {
     "name": "stdout",
     "output_type": "stream",
     "text": [
      "Number of Images in Raphidiopsis_ss class is = 9\n"
     ]
    }
   ],
   "source": [
    "countofallimages = 0\n",
    "for cls in Categories:\n",
    "  print(f'Number of Images in {cls} class is = {len(images[cls])}')\n",
    "  countofallimages += len(images[cls])"
   ]
  },
  {
   "cell_type": "markdown",
   "id": "dd80107f",
   "metadata": {},
   "source": [
    "These numbers are total number of samples we have from each class."
   ]
  },
  {
   "cell_type": "code",
   "execution_count": 8,
   "id": "d6acdf31",
   "metadata": {},
   "outputs": [
    {
     "name": "stdout",
     "output_type": "stream",
     "text": [
      "Count of all images in Dataset = 9\n",
      "There are 1 classes\n",
      "Average number of essential images for each class is = 9\n"
     ]
    }
   ],
   "source": [
    "print(f'Count of all images in Dataset = {countofallimages}')\n",
    "print(f'There are {len(Categories )} classes')\n",
    "print(f'Average number of essential images for each class is = {round(countofallimages/len(Categories))}')"
   ]
  },
  {
   "cell_type": "code",
   "execution_count": 9,
   "id": "e62801df",
   "metadata": {},
   "outputs": [],
   "source": [
    "import numpy as np\n",
    "import cv2  # Assuming you're using OpenCV for image processing\n",
    "\n",
    "# Define the desired shape for all images (e.g., 224x224)\n",
    "desired_shape = (150, 150)\n",
    "\n",
    "X = []   # X stores images of dataset\n",
    "y = []   # y stores labels of each image \n",
    "X_addr = []  # X_addr stores path of each image\n",
    "\n",
    "for cls in Categories:\n",
    "    for img in images[cls]:\n",
    "        resized_img = cv2.resize(img, desired_shape)  # Resize image to desired shape\n",
    "        X.append(resized_img)\n",
    "        y.append(cls)\n",
    "\n",
    "for cls in Categories:\n",
    "    for img in images_directory[cls]:\n",
    "        X_addr.append(img)\n",
    "\n",
    "y = np.array(y)\n",
    "X = np.array(X)  # Now all images should have the same shape\n",
    "X_addr = np.array(X_addr)\n"
   ]
  },
  {
   "cell_type": "code",
   "execution_count": 10,
   "id": "934b9892",
   "metadata": {},
   "outputs": [
    {
     "data": {
      "text/plain": [
       "Counter({'Raphidiopsis_ss': 9})"
      ]
     },
     "execution_count": 10,
     "metadata": {},
     "output_type": "execute_result"
    }
   ],
   "source": [
    "counter = collections.Counter(y)\n",
    "counter"
   ]
  },
  {
   "cell_type": "code",
   "execution_count": 11,
   "id": "6ee51312",
   "metadata": {},
   "outputs": [
    {
     "data": {
      "image/png": "[encoded data removed]",
      "text/plain": [
       "<Figure size 1600x400 with 4 Axes>"
      ]
     },
     "metadata": {},
     "output_type": "display_data"
    }
   ],
   "source": [
    "for cls in Categories:\n",
    "  plt.figure(figsize=(16,4))\n",
    "  for n , i in enumerate(list(np.random.randint(0,counter[cls],4))) : \n",
    "    plt.subplot(3,4,n+1)\n",
    "    plt.imshow(images[cls][i],cmap=\"gray\")   \n",
    "    plt.axis('off')\n",
    "    plt.title(cls)"
   ]
  },
  {
   "cell_type": "markdown",
   "id": "99eed56b",
   "metadata": {},
   "source": [
    "#### Splitting Train and Test dataset"
   ]
  },
  {
   "cell_type": "code",
   "execution_count": 12,
   "id": "ef8d48f3",
   "metadata": {},
   "outputs": [],
   "source": [
    "X_train_ind, X_test_ind, y_train, y_test = train_test_split(list(range(y.shape[0])), y, test_size=0.2,random_state=1)\n",
    "X_train_addr = X_addr[X_train_ind]\n",
    "X_train = X[X_train_ind]\n",
    "\n",
    "X_test_addr = X_addr[X_test_ind]\n",
    "X_test = X[X_test_ind]"
   ]
  },
  {
   "cell_type": "code",
   "execution_count": 13,
   "id": "c8392397",
   "metadata": {},
   "outputs": [
    {
     "data": {
      "text/plain": [
       "Counter({'Raphidiopsis_ss': 7})"
      ]
     },
     "execution_count": 13,
     "metadata": {},
     "output_type": "execute_result"
    }
   ],
   "source": [
    "collections.Counter(y_train)"
   ]
  },
  {
   "cell_type": "markdown",
   "id": "dd7cd1db",
   "metadata": {},
   "source": [
    "above numbers are the numbers that placed in ***training dataset***."
   ]
  },
  {
   "cell_type": "code",
   "execution_count": 14,
   "id": "86c0e0e4",
   "metadata": {},
   "outputs": [
    {
     "data": {
      "text/plain": [
       "Counter({'Raphidiopsis_ss': 2})"
      ]
     },
     "execution_count": 14,
     "metadata": {},
     "output_type": "execute_result"
    }
   ],
   "source": [
    "collections.Counter(y_test)"
   ]
  },
  {
   "cell_type": "markdown",
   "id": "435ae7e1",
   "metadata": {},
   "source": [
    "above numbers are the numbers that placed in ***test dataset***."
   ]
  },
  {
   "cell_type": "code",
   "execution_count": 15,
   "id": "512b5d98",
   "metadata": {},
   "outputs": [],
   "source": [
    "# for i , img in enumerate(X_train):\n",
    "#     try:\n",
    "#         os.mkdir(f'../Train/{y_train[i]}')\n",
    "#     except:\n",
    "#         pass\n",
    "#     address = f'../Train/{y_train[i]}/{X_train_addr[i][17:].split(\"/\")[1]}'\n",
    "#     cv2.imwrite(address, np.array(new_X))"
   ]
  },
  {
   "cell_type": "markdown",
   "id": "ebb61d88",
   "metadata": {},
   "source": [
    "-----------"
   ]
  },
  {
   "cell_type": "markdown",
   "id": "0cfd3362",
   "metadata": {},
   "source": [
    "#### Save splitted dataset to directory"
   ]
  },
  {
   "cell_type": "code",
   "execution_count": 16,
   "id": "0cb4c89c",
   "metadata": {},
   "outputs": [
    {
     "name": "stdout",
     "output_type": "stream",
     "text": [
      "Saved: Train/Raphidiopsis_ss\\Screenshot 2024-08-13 103330.png\n",
      "Saved: Train/Raphidiopsis_ss\\Screenshot 2024-08-13 103335.png\n",
      "Saved: Train/Raphidiopsis_ss\\Screenshot 2024-08-13 103246.png\n",
      "Saved: Train/Raphidiopsis_ss\\Screenshot 2024-08-13 103236.png\n",
      "Saved: Train/Raphidiopsis_ss\\Screenshot 2024-08-13 103310.png\n",
      "Saved: Train/Raphidiopsis_ss\\Screenshot 2024-08-13 103302.png\n",
      "Saved: Train/Raphidiopsis_ss\\Screenshot 2024-08-13 103321.png\n"
     ]
    }
   ],
   "source": [
    "for i, img in enumerate(X_train):\n",
    "    # Construct the directory path for the current class\n",
    "    class_dir = f'Train/{y_train[i]}'\n",
    "    \n",
    "    # Create the directory for the current label if it doesn't exist\n",
    "    os.makedirs(class_dir, exist_ok=True)\n",
    "\n",
    "    # Extract the base filename from the original address\n",
    "    filename = os.path.basename(X_train_addr[i])  # Extracts 'image_001.jpg'\n",
    "    \n",
    "    # Construct the complete address for saving the image\n",
    "    address = os.path.join(class_dir, filename)\n",
    "    \n",
    "    # Process the image\n",
    "    new_X = expand2square(img, calculatebackground(img))\n",
    "    \n",
    "    # Convert the processed image to a NumPy array\n",
    "    image_array = np.array(new_X)\n",
    "    \n",
    "    # Save the image using OpenCV\n",
    "    if cv2.imwrite(address, image_array):\n",
    "        print(f\"Saved: {address}\")\n",
    "    else:\n",
    "        print(f\"Failed to save: {address}\")"
   ]
  },
  {
   "cell_type": "code",
   "execution_count": 47,
   "id": "462a3f56",
   "metadata": {},
   "outputs": [
    {
     "ename": "error",
     "evalue": "OpenCV(4.10.0) D:\\a\\opencv-python\\opencv-python\\opencv\\modules\\imgcodecs\\src\\loadsave.cpp:708: error: (-2:Unspecified error) could not find a writer for the specified extension in function 'cv::imwrite_'\n",
     "output_type": "error",
     "traceback": [
      "\u001b[1;31m---------------------------------------------------------------------------\u001b[0m",
      "\u001b[1;31merror\u001b[0m                                     Traceback (most recent call last)",
      "Cell \u001b[1;32mIn[47], line 7\u001b[0m\n\u001b[0;32m      5\u001b[0m     \u001b[38;5;28;01mpass\u001b[39;00m\n\u001b[0;32m      6\u001b[0m address \u001b[38;5;241m=\u001b[39m \u001b[38;5;124mf\u001b[39m\u001b[38;5;124m'\u001b[39m\u001b[38;5;124m../dataset/Test/\u001b[39m\u001b[38;5;132;01m{\u001b[39;00my_test[i]\u001b[38;5;132;01m}\u001b[39;00m\u001b[38;5;124m/\u001b[39m\u001b[38;5;132;01m{\u001b[39;00mX_test_addr[i][\u001b[38;5;241m17\u001b[39m:]\u001b[38;5;241m.\u001b[39msplit(\u001b[38;5;124m\"\u001b[39m\u001b[38;5;124m/\u001b[39m\u001b[38;5;124m\"\u001b[39m)[\u001b[38;5;241m1\u001b[39m]\u001b[38;5;132;01m}\u001b[39;00m\u001b[38;5;124m'\u001b[39m\n\u001b[1;32m----> 7\u001b[0m \u001b[43mcv2\u001b[49m\u001b[38;5;241;43m.\u001b[39;49m\u001b[43mimwrite\u001b[49m\u001b[43m(\u001b[49m\u001b[43maddress\u001b[49m\u001b[43m,\u001b[49m\u001b[43m \u001b[49m\u001b[43mnp\u001b[49m\u001b[38;5;241;43m.\u001b[39;49m\u001b[43marray\u001b[49m\u001b[43m(\u001b[49m\u001b[43mnew_X\u001b[49m\u001b[43m)\u001b[49m\u001b[43m)\u001b[49m\n",
      "\u001b[1;31merror\u001b[0m: OpenCV(4.10.0) D:\\a\\opencv-python\\opencv-python\\opencv\\modules\\imgcodecs\\src\\loadsave.cpp:708: error: (-2:Unspecified error) could not find a writer for the specified extension in function 'cv::imwrite_'\n"
     ]
    }
   ],
   "source": [
    "for i , img in enumerate(X_test):\n",
    "    try:\n",
    "        os.mkdir(f'../dataset/Test/{y_test[i]}')\n",
    "    except:\n",
    "        pass\n",
    "    address = f'../dataset/Test/{y_test[i]}/{X_test_addr[i][17:].split(\"/\")[1]}'\n",
    "    cv2.imwrite(address, np.array(new_X))"
   ]
  },
  {
   "cell_type": "code",
   "execution_count": 17,
   "id": "15aae490",
   "metadata": {},
   "outputs": [
    {
     "name": "stdout",
     "output_type": "stream",
     "text": [
      "Saved: Test/Raphidiopsis_ss\\Screenshot 2024-08-13 103330.png\n",
      "Saved: Test/Raphidiopsis_ss\\Screenshot 2024-08-13 103335.png\n"
     ]
    }
   ],
   "source": [
    "for i, img in enumerate(X_test):\n",
    "    # Construct the directory path for the current class\n",
    "    class_dir = f'Test/{y_train[i]}'\n",
    "    \n",
    "    # Create the directory for the current label if it doesn't exist\n",
    "    os.makedirs(class_dir, exist_ok=True)\n",
    "\n",
    "    # Extract the base filename from the original address\n",
    "    filename = os.path.basename(X_train_addr[i])  # Extracts 'image_001.jpg'\n",
    "    \n",
    "    # Construct the complete address for saving the image\n",
    "    address = os.path.join(class_dir, filename)\n",
    "    \n",
    "    # Process the image\n",
    "    new_X = expand2square(img, calculatebackground(img))\n",
    "    \n",
    "    # Convert the processed image to a NumPy array\n",
    "    image_array = np.array(new_X)\n",
    "    \n",
    "    # Save the image using OpenCV\n",
    "    if cv2.imwrite(address, image_array):\n",
    "        print(f\"Saved: {address}\")\n",
    "    else:\n",
    "        print(f\"Failed to save: {address}\")"
   ]
  },
  {
   "cell_type": "code",
   "execution_count": null,
   "id": "8dbe3edb",
   "metadata": {},
   "outputs": [],
   "source": []
  }
 ],
 "metadata": {
  "kernelspec": {
   "display_name": "Python 3",
   "language": "python",
   "name": "python3"
  },
  "language_info": {
   "codemirror_mode": {
    "name": "ipython",
    "version": 3
   },
   "file_extension": ".py",
   "mimetype": "text/x-python",
   "name": "python",
   "nbconvert_exporter": "python",
   "pygments_lexer": "ipython3",
   "version": "3.10.14"
  }
 },
 "nbformat": 4,
 "nbformat_minor": 5
}
